{
 "cells": [
  {
   "cell_type": "code",
   "execution_count": 5,
   "metadata": {},
   "outputs": [],
   "source": [
    "####################################\n",
    "### IMport stuff\n",
    "####################################\n",
    "import numpy as np\n",
    "import matplotlib.pyplot as plt"
   ]
  },
  {
   "cell_type": "code",
   "execution_count": 33,
   "metadata": {},
   "outputs": [
    {
     "data": {
      "image/png": "[encoded data removed]",
      "text/plain": [
       "<Figure size 432x288 with 2 Axes>"
      ]
     },
     "metadata": {
      "needs_background": "light"
     },
     "output_type": "display_data"
    },
    {
     "data": {
      "image/png": "[encoded data removed]",
      "text/plain": [
       "<Figure size 432x288 with 2 Axes>"
      ]
     },
     "metadata": {
      "needs_background": "light"
     },
     "output_type": "display_data"
    }
   ],
   "source": [
    "####################################\n",
    "### Set parameters\n",
    "####################################\n",
    "L = 3 #size of lattice (nice to keep small when debugging, then crank up later)\n",
    "max_time = 10 #number of updates (nice to keep small when debugging, then crank up later)\n",
    "\n",
    "#probabilities of actions\n",
    "p_move = 0.4\n",
    "p_compete = .5\n",
    "#(make sure these sum to < 1)\n",
    "p_reproduce = 1 - p_move - p_compete\n",
    "\n",
    "\n",
    "####################################\n",
    "### Set up needed arrays\n",
    "####################################\n",
    "\n",
    "#possible things to happen at each time step\n",
    "actions = ['move', 'compete', 'reproduce']\n",
    "#the probabilites at which they will happen\n",
    "action_probs = [p_move, p_compete, p_reproduce]\n",
    "\n",
    "#defining neighbourhoods\n",
    "#neighbor_list = np.array([[-1,-1],[-1,0],[-1,1],[0,-1],[0,1],[1,-1],[1,0],[1,1]])\n",
    "neighbor_list = np.array([[-1,0],[0,-1],[0,1],[1,0]])\n",
    "num_of_neighbors = len(neighbor_list[:,0])\n",
    "\n",
    "#this is the pay-off matrix for P-R-S\n",
    "pay_outs = np.array([[0,1,-1],[-1,0,1],[1,-1,0]])\n",
    "\n",
    "#this is the 'world' in which the agents are playing\n",
    "strategies = np.random.randint(0,3,(L,L))\n",
    "#print(strategies)\n",
    "# 0 = paper\n",
    "# 1 = rock\n",
    "# 2 = scissors\n",
    "# -1 = empty\n",
    "\n",
    "\n",
    "####################################\n",
    "### Run simulation\n",
    "####################################\n",
    "for t in range(max_time):\n",
    "\n",
    "#     print('This is update number: ' + str(t))\n",
    "#     print('The system looks like this')\n",
    "    #plot the system\n",
    "    if t % (L*L) == 0: #you can use this to plot it less frequently once you have it running\n",
    "        plt.figure()\n",
    "        plt.imshow(strategies,vmin = -1,vmax = 2)\n",
    "        plt.colorbar()\n",
    "        plt.show()\n",
    "\n",
    "    # pick focal\n",
    "    focal_i = np.random.randint(0,L)\n",
    "    focal_j = np.random.randint(0,L)\n",
    "#     print('The focal individual is at ' + str(focal_i) + ',' +str(focal_j))\n",
    "#     print('The focal strategy is ' + str(strategies[focal_i,focal_j]))\n",
    "    \n",
    "    # pick random neighbour\n",
    "    neighbor_num = np.random.randint(0,num_of_neighbors)\n",
    "    neighbor_i = (focal_i + neighbor_list[neighbor_num,0] ) % L\n",
    "    neighbor_j = (focal_j + neighbor_list[neighbor_num,1] ) % L\n",
    "#     print('The neighbor individual is at ' + str(neighbor_i) + ',' +str(neighbor_j))\n",
    "#     print('The neighbor strategy is ' + str(strategies[neighbor_i,neighbor_j]))\n",
    "    \n",
    "    # pick action\n",
    "    action_2_do = np.random.choice(actions,p=action_probs)\n",
    "#     print('Weve choose to do ' + action_2_do)\n",
    "    \n",
    "    # if action = move\n",
    "    if action_2_do == 'move':\n",
    "        ###swap places\n",
    "        temp = strategies[focal_i,focal_j] \n",
    "        strategies[focal_i,focal_j] = strategies[neighbor_i,neighbor_j]\n",
    "        strategies[neighbor_i,neighbor_j] = temp\n",
    "        #save the focal strat temporarily\n",
    "        # replace focal with neighbor\n",
    "        # replace neighbor with SAVED focal\n",
    "            \n",
    "    #otherwise, if action = compete\n",
    "    elif action_2_do == 'compete':\n",
    "        ###compete and remove loser\n",
    "        #find focal strategy\n",
    "        focal_strategy = strategies[focal_i,focal_j]\n",
    "        #find neighbor strategy\n",
    "        neighbor_strategy = strategies[neighbor_i,neighbor_j]\n",
    "        #if both are alive\n",
    "        if (focal_strategy > -1 & neighbor_strategy >-1):\n",
    "            \n",
    "            #get the payout to the focal individual (use predifined pay_outs array)\n",
    "            focal_payout = pay_outs[focal_strategy,neighbor_strategy]\n",
    "            if focal_payout == 1:#if focal payout ==1, then focal won\n",
    "                strategies[neighbor_i,neighbor_j] = -1 #remove neighbor (make their strategy -1)\n",
    "            elif focal_payout == -1: #otherwise, if focal payout = -1, then focal lost\n",
    "                strategies[focal_i,focal_j] = -1 #remove focal (make thier strategy -1)\n",
    "\n",
    "    #if action = reproduce\n",
    "    elif action_2_do == 'reproduce':\n",
    "        ### reproduce\n",
    "        #find focal strategy\n",
    "        focal_strategy = strategies[focal_i,focal_j]\n",
    "        #find neighbor strategy\n",
    "        neighbor_strategy = strategies[neighbor_i,neighbor_j]\n",
    "        \n",
    "        if focal_strategy ==-1 & neighbor_strategy > -1: #if focal site is empty, and neighbor not\n",
    "            strategies[focal_i,focal_j] = neighbor_strategy#copy neighbor strategy to focal site\n",
    "        elif focal_strategy >-1  & neighbor_strategy == -1: #otherwise, if focal not empty and neighbor is emtpy\n",
    "            strategies[neighbor_i,neighbor_j] = focal_strategy#copy focal strategy to neighbor site\n"
   ]
  },
  {
   "cell_type": "code",
   "execution_count": 32,
   "metadata": {
    "scrolled": false
   },
   "outputs": [
    {
     "name": "stdout",
     "output_type": "stream",
     "text": [
      "1\n",
      "1 0\n",
      "1 2\n"
     ]
    }
   ],
   "source": [
    "neighbor_num = np.random.randint(0,num_of_neighbors)\n",
    "print(neighbor_num)\n",
    "neighbor_i = (focal_i + neighbor_list[neighbor_num,0] ) % L\n",
    "neighbor_j = (focal_j + neighbor_list[neighbor_num,1] ) % L\n",
    "print(focal_i,focal_j)\n",
    "print(neighbor_i,neighbor_j)"
   ]
  },
  {
   "cell_type": "code",
   "execution_count": null,
   "metadata": {},
   "outputs": [],
   "source": []
  }
 ],
 "metadata": {
  "kernelspec": {
   "display_name": "Python 3",
   "language": "python",
   "name": "python3"
  },
  "language_info": {
   "codemirror_mode": {
    "name": "ipython",
    "version": 3
   },
   "file_extension": ".py",
   "mimetype": "text/x-python",
   "name": "python",
   "nbconvert_exporter": "python",
   "pygments_lexer": "ipython3",
   "version": "3.8.3"
  }
 },
 "nbformat": 4,
 "nbformat_minor": 5
}
