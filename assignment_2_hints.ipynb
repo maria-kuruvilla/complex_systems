{
 "cells": [
  {
   "cell_type": "code",
   "execution_count": 1,
   "metadata": {},
   "outputs": [],
   "source": [
    "############ PANIC RULE 1 ################################\n",
    "\n",
    "\n",
    "###########################\n",
    "### SET UP\n",
    "###########################\n",
    "\n",
    "# create all the parameters (length of side of world, initial prob of a site\n",
    "# being in state = 1, time the simulation should run)\n",
    "\n",
    "# make an empty world (np.zeros)\n",
    "# make an empty new_world for the next time step (np.zeros)\n",
    "\n",
    "\n",
    "#loop over all of the sites of the 'world' and add ones with the appropriate\n",
    "# probability\n",
    "\n",
    "###########################\n",
    "### Run simulation\n",
    "###########################\n",
    "\n",
    "# loop over time\n",
    "    # loop over sites\n",
    "        #set a counter to zero\n",
    "        #loop over neighbours\n",
    "            #add to counter if neighbours are in state 1\n",
    "            \n",
    "        #if the counter is above threshold, set the new_world's site to one\n",
    "    #overwrite world with new world\n",
    "    #clear new world\n",
    "    #make a plot to see if it is working?\n",
    "    #calculate the fraction of =1 cells\n",
    "    \n",
    "    \n",
    "\n",
    "# once you get it working, turn it into a function"
   ]
  },
  {
   "cell_type": "code",
   "execution_count": 2,
   "metadata": {},
   "outputs": [],
   "source": [
    "############ Panic rule 2 ################################\n",
    "\n",
    "\n",
    "###########################\n",
    "### SET UP\n",
    "###########################\n",
    "\n",
    "# create all the parameters (length of side of world, initial prob of a site\n",
    "# being in state = 1, time the simulation should run)\n",
    "\n",
    "# create an array of p values to test\n",
    "# create an empty array to hold the response\n",
    "\n",
    "\n",
    "###########################\n",
    "### RUN experiment\n",
    "###########################\n",
    "\n",
    "# for list of p values\n",
    "    # run function and store response in array\n",
    "    \n",
    "#plot response vs p list\n"
   ]
  },
  {
   "cell_type": "code",
   "execution_count": null,
   "metadata": {},
   "outputs": [],
   "source": [
    "############ Panic rule 3 ################################\n",
    "\n",
    "# Just like part 2, but increase measurement density in region of interest\n",
    "#(or everywhere...)\n"
   ]
  }
 ],
 "metadata": {
  "kernelspec": {
   "display_name": "Python 3",
   "language": "python",
   "name": "python3"
  },
  "language_info": {
   "codemirror_mode": {
    "name": "ipython",
    "version": 3
   },
   "file_extension": ".py",
   "mimetype": "text/x-python",
   "name": "python",
   "nbconvert_exporter": "python",
   "pygments_lexer": "ipython3",
   "version": "3.8.3"
  }
 },
 "nbformat": 4,
 "nbformat_minor": 2
}
