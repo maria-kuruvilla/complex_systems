{
 "cells": [
  {
   "cell_type": "code",
   "execution_count": 2,
   "id": "55a003ed",
   "metadata": {},
   "outputs": [],
   "source": [
    "################################\n",
    "### Import Stuff\n",
    "################################\n",
    "import numpy as np\n",
    "import matplotlib.pyplot as plt\n",
    "from scipy.integrate import odeint"
   ]
  },
  {
   "cell_type": "code",
   "execution_count": 8,
   "id": "564d178c",
   "metadata": {},
   "outputs": [],
   "source": [
    "################################\n",
    "### Define functions\n",
    "################################\n",
    "\n",
    "#SI is both S and I. S is SI[0] and I is SI[1]\n",
    "\n",
    "def SIS(SI, t, a, b):\n",
    "    \"\"\"Return the growth rate of the susceptible and infected populations\"\"\"\n",
    "    dSdt = -a*SI[0]*SI[1] + b*SI[1]\n",
    "    dIdt = a*SI[0]*SI[1] - b*SI[1]\n",
    "    return np.array([dSdt, dIdt])"
   ]
  },
  {
   "cell_type": "code",
   "execution_count": 9,
   "id": "de07b4cd",
   "metadata": {},
   "outputs": [
    {
     "ename": "TypeError",
     "evalue": "SIS() takes 3 positional arguments but 4 were given",
     "output_type": "error",
     "traceback": [
      "\u001b[0;31m---------------------------------------------------------------------------\u001b[0m",
      "\u001b[0;31mTypeError\u001b[0m                                 Traceback (most recent call last)",
      "\u001b[0;32m<ipython-input-9-78be1795da81>\u001b[0m in \u001b[0;36m<module>\u001b[0;34m\u001b[0m\n\u001b[1;32m     26\u001b[0m \u001b[0;31m################################\u001b[0m\u001b[0;34m\u001b[0m\u001b[0;34m\u001b[0m\u001b[0;34m\u001b[0m\u001b[0m\n\u001b[1;32m     27\u001b[0m \u001b[0;34m\u001b[0m\u001b[0m\n\u001b[0;32m---> 28\u001b[0;31m \u001b[0mSI\u001b[0m \u001b[0;34m=\u001b[0m \u001b[0modeint\u001b[0m\u001b[0;34m(\u001b[0m\u001b[0mSIS\u001b[0m\u001b[0;34m,\u001b[0m \u001b[0mSI_o\u001b[0m\u001b[0;34m,\u001b[0m \u001b[0mt\u001b[0m\u001b[0;34m,\u001b[0m \u001b[0margs\u001b[0m\u001b[0;34m=\u001b[0m\u001b[0;34m(\u001b[0m\u001b[0ma\u001b[0m\u001b[0;34m,\u001b[0m \u001b[0mb\u001b[0m\u001b[0;34m)\u001b[0m\u001b[0;34m)\u001b[0m\u001b[0;34m\u001b[0m\u001b[0;34m\u001b[0m\u001b[0m\n\u001b[0m",
      "\u001b[0;32m~/opt/anaconda3/lib/python3.8/site-packages/scipy/integrate/odepack.py\u001b[0m in \u001b[0;36modeint\u001b[0;34m(func, y0, t, args, Dfun, col_deriv, full_output, ml, mu, rtol, atol, tcrit, h0, hmax, hmin, ixpr, mxstep, mxhnil, mxordn, mxords, printmessg, tfirst)\u001b[0m\n\u001b[1;32m    239\u001b[0m     \u001b[0mt\u001b[0m \u001b[0;34m=\u001b[0m \u001b[0mcopy\u001b[0m\u001b[0;34m(\u001b[0m\u001b[0mt\u001b[0m\u001b[0;34m)\u001b[0m\u001b[0;34m\u001b[0m\u001b[0;34m\u001b[0m\u001b[0m\n\u001b[1;32m    240\u001b[0m     \u001b[0my0\u001b[0m \u001b[0;34m=\u001b[0m \u001b[0mcopy\u001b[0m\u001b[0;34m(\u001b[0m\u001b[0my0\u001b[0m\u001b[0;34m)\u001b[0m\u001b[0;34m\u001b[0m\u001b[0;34m\u001b[0m\u001b[0m\n\u001b[0;32m--> 241\u001b[0;31m     output = _odepack.odeint(func, y0, t, args, Dfun, col_deriv, ml, mu,\n\u001b[0m\u001b[1;32m    242\u001b[0m                              \u001b[0mfull_output\u001b[0m\u001b[0;34m,\u001b[0m \u001b[0mrtol\u001b[0m\u001b[0;34m,\u001b[0m \u001b[0matol\u001b[0m\u001b[0;34m,\u001b[0m \u001b[0mtcrit\u001b[0m\u001b[0;34m,\u001b[0m \u001b[0mh0\u001b[0m\u001b[0;34m,\u001b[0m \u001b[0mhmax\u001b[0m\u001b[0;34m,\u001b[0m \u001b[0mhmin\u001b[0m\u001b[0;34m,\u001b[0m\u001b[0;34m\u001b[0m\u001b[0;34m\u001b[0m\u001b[0m\n\u001b[1;32m    243\u001b[0m                              \u001b[0mixpr\u001b[0m\u001b[0;34m,\u001b[0m \u001b[0mmxstep\u001b[0m\u001b[0;34m,\u001b[0m \u001b[0mmxhnil\u001b[0m\u001b[0;34m,\u001b[0m \u001b[0mmxordn\u001b[0m\u001b[0;34m,\u001b[0m \u001b[0mmxords\u001b[0m\u001b[0;34m,\u001b[0m\u001b[0;34m\u001b[0m\u001b[0;34m\u001b[0m\u001b[0m\n",
      "\u001b[0;31mTypeError\u001b[0m: SIS() takes 3 positional arguments but 4 were given"
     ]
    }
   ],
   "source": [
    "################################\n",
    "### Set parameters\n",
    "################################\n",
    "\n",
    "a = 0.0002\n",
    "b = 0.15\n",
    "\n",
    "max_time = 300\n",
    "num_time_points = 10000\n",
    "\n",
    "\n",
    "\n",
    "################################\n",
    "### Initialze simulation\n",
    "################################\n",
    "N = 1000\n",
    "I_o = 1\n",
    "S_o = N - I_o\n",
    "\n",
    "SI_o = np.array([S_o, I_o])\n",
    "\n",
    "t = np.linspace(0,max_time,num_time_points)\n",
    "\n",
    "################################\n",
    "### Run the simulation\n",
    "################################\n",
    "\n",
    "SI = odeint(SIS, SI_o, t, args=(a, b))\n"
   ]
  },
  {
   "cell_type": "code",
   "execution_count": 7,
   "id": "6e162632",
   "metadata": {},
   "outputs": [
    {
     "data": {
      "text/plain": [
       "<matplotlib.legend.Legend at 0x7fcfddb53d00>"
      ]
     },
     "execution_count": 7,
     "metadata": {},
     "output_type": "execute_result"
    },
    {
     "data": {
      "image/png": "[encoded data removed]",
      "text/plain": [
       "<Figure size 432x288 with 1 Axes>"
      ]
     },
     "metadata": {
      "needs_background": "light"
     },
     "output_type": "display_data"
    }
   ],
   "source": [
    "################################\n",
    "### Plot the results\n",
    "################################\n",
    "\n",
    "plt.figure()\n",
    "plt.plot(t,SI[:,0], label='S')\n",
    "plt.plot(t,SI[:,1], label='I')\n",
    "plt.xlabel('time')\n",
    "plt.ylabel('pop size')\n",
    "plt.legend()"
   ]
  },
  {
   "cell_type": "code",
   "execution_count": 6,
   "id": "6cfceb11",
   "metadata": {},
   "outputs": [
    {
     "name": "stdout",
     "output_type": "stream",
     "text": [
      "[[999.           1.        ]\n",
      " [998.99850474   1.00149526]\n",
      " [998.99700725   1.00299275]\n",
      " ...\n",
      " [750.01909814 249.98090186]\n",
      " [750.01906951 249.98093049]\n",
      " [750.01904093 249.98095907]]\n"
     ]
    }
   ],
   "source": [
    "print(SI)"
   ]
  },
  {
   "cell_type": "code",
   "execution_count": null,
   "id": "63f1255d",
   "metadata": {},
   "outputs": [],
   "source": []
  }
 ],
 "metadata": {
  "kernelspec": {
   "display_name": "Python 3",
   "language": "python",
   "name": "python3"
  },
  "language_info": {
   "codemirror_mode": {
    "name": "ipython",
    "version": 3
   },
   "file_extension": ".py",
   "mimetype": "text/x-python",
   "name": "python",
   "nbconvert_exporter": "python",
   "pygments_lexer": "ipython3",
   "version": "3.8.8"
  }
 },
 "nbformat": 4,
 "nbformat_minor": 5
}
