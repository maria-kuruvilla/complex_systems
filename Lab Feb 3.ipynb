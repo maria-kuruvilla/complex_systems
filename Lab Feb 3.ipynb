{
 "cells": [
  {
   "cell_type": "code",
   "execution_count": 3,
   "id": "bf971a65",
   "metadata": {},
   "outputs": [
    {
     "name": "stdout",
     "output_type": "stream",
     "text": [
      "[0. 0. 0. 0. 0. 0. 0. 0. 0. 0. 0. 0. 0. 0. 0. 0. 0. 0. 0. 0. 0. 0. 0. 0.\n",
      " 0. 0. 0. 0. 0. 0. 0. 0. 0. 0. 0. 0. 0. 0. 0. 0. 0. 0. 0. 0. 0. 0. 0. 0.\n",
      " 0. 0. 1. 1. 1. 1. 1. 1. 1. 1. 1. 1. 1. 1. 1. 1. 1. 1. 1. 1. 1. 1. 1. 1.\n",
      " 1. 1. 1. 2. 2. 2. 2. 2. 2. 2. 2. 2. 2. 2. 2. 2. 2. 2. 2. 2. 2. 2. 2. 2.\n",
      " 2. 2. 2. 2.]\n",
      "[[0. 0. 0. 0. 0. 1. 2. 0. 2. 0.]\n",
      " [1. 0. 0. 2. 1. 1. 2. 2. 0. 2.]\n",
      " [0. 2. 1. 2. 1. 0. 0. 2. 0. 0.]\n",
      " [0. 1. 2. 2. 0. 0. 0. 0. 0. 1.]\n",
      " [1. 0. 2. 0. 0. 0. 2. 0. 2. 0.]\n",
      " [0. 1. 0. 2. 0. 0. 2. 0. 2. 0.]\n",
      " [1. 2. 1. 1. 0. 0. 2. 1. 0. 1.]\n",
      " [1. 0. 1. 1. 1. 2. 1. 2. 0. 0.]\n",
      " [0. 1. 0. 0. 2. 1. 0. 0. 0. 2.]\n",
      " [1. 0. 2. 0. 2. 0. 1. 0. 1. 0.]]\n"
     ]
    }
   ],
   "source": [
    "#schelling model\n",
    "\n",
    "#imports\n",
    "import numpy as np\n",
    "import matplotlib.pyplot as plt\n",
    "\n",
    "# size of the world\n",
    "L = 10\n",
    "\n",
    "# half num_of agents\n",
    "N = 25\n",
    "\n",
    "\n",
    "### set up\n",
    "\n",
    "num_sites = L*L\n",
    "empty_sites = np.zeros(num_sites-2*N)\n",
    "agent_list_1 = np.full(int(N),1)\n",
    "agent_list_2 = np.full(int(N),2)\n",
    "\n",
    "site_option_list = np.concatenate((empty_sites,agent_list_1,agent_list_2))\n",
    "\n",
    "print(site_option_list)\n",
    "\n",
    "world = np.random.choice(site_option_list,size=(L,L),replace=False)\n",
    "print(world)\n"
   ]
  },
  {
   "cell_type": "code",
   "execution_count": null,
   "id": "e8606a27",
   "metadata": {},
   "outputs": [],
   "source": [
    "threshold = 4\n",
    "# run\n",
    "\n",
    "neighbors = [-1,0,1]\n",
    "#check for number of unhappy individuals\n",
    "for i in range(L):\n",
    "    for j in range(L):\n",
    "        count_like = 0\n",
    "        if world(i,j) > 0:\n",
    "            neighbors = [world(i-1,j-1),world(i-1,j),world(i-1,(j%L)+1),world(i,j-1),world(i,(j%L)+1),world((i%L)+1,j-1),world((i%L)+1,j),world((i%L)+1,(j%L)+1)] \n",
    "            for n in neighbors:\n",
    "                if n == world(i,j):\n",
    "                    count_like = count_like + 1\n",
    "            if count_like<4:\n",
    "                "
   ]
  }
 ],
 "metadata": {
  "kernelspec": {
   "display_name": "Python 3 (ipykernel)",
   "language": "python",
   "name": "python3"
  },
  "language_info": {
   "codemirror_mode": {
    "name": "ipython",
    "version": 3
   },
   "file_extension": ".py",
   "mimetype": "text/x-python",
   "name": "python",
   "nbconvert_exporter": "python",
   "pygments_lexer": "ipython3",
   "version": "3.9.7"
  }
 },
 "nbformat": 4,
 "nbformat_minor": 5
}
