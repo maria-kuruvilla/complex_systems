{
 "cells": [
  {
   "cell_type": "code",
   "execution_count": 1,
   "id": "9930b5b2",
   "metadata": {},
   "outputs": [],
   "source": [
    "import matplotlib.pyplot as plt\n",
    "import numpy as np\n",
    "import networkx as nx ############## package for creating and working with networks!"
   ]
  },
  {
   "cell_type": "code",
   "execution_count": 33,
   "id": "6c9cebba",
   "metadata": {
    "scrolled": true
   },
   "outputs": [
    {
     "name": "stdout",
     "output_type": "stream",
     "text": [
      "[1.  1.7 1.8 2.7 2.7 3.4 3.7 4.2 3.4 5.2 4.9 6.6 6.1 7.1 7.3 7.6 7.2 7.5\n",
      " 7.6 7.6 7.9 7.5 7.8 8.  7.9 8.  8.  8.  8.  8.  8.  8.  8.  8.  8.  8.\n",
      " 8.  8.  8.  8.  8.  8.  8.  8.  8.  8.  8.  8.  8.  8. ]\n"
     ]
    },
    {
     "data": {
      "image/png": "[encoded data removed]",
      "text/plain": [
       "<Figure size 432x288 with 1 Axes>"
      ]
     },
     "metadata": {
      "needs_background": "light"
     },
     "output_type": "display_data"
    }
   ],
   "source": [
    "# Erdos Renyi (random)\n",
    "N = 8\n",
    "\n",
    "probabilities = 50\n",
    "link_prob = np.linspace(0,1,probabilities)\n",
    "trials = 10\n",
    "largest = np.zeros(trials)\n",
    "average_largest = np.zeros(probabilities)\n",
    "j = 0\n",
    "for j in range(probabilities): \n",
    "    \n",
    "    for i in range(trials):\n",
    "        G_ER = nx.erdos_renyi_graph(N, link_prob[j])\n",
    "        largest[i] = len(max(nx.connected_components(G_ER), key=len))\n",
    "    average_largest[j] = np.mean(largest)\n",
    "    \n",
    "#nx.draw(G_ER, with_labels=False)\n",
    "plt.plot(link_prob,average_largest)\n",
    "plt.hlines(N/2,0,1, color = \"red\")\n",
    "# G_ER.nodes()\n",
    "# G_ER.edges()\n",
    "# G_ER.degree()\n",
    "\n",
    "print(average_largest)\n",
    "# number_connected = nx.number_connected_components(G_ER)\n",
    "# print(number_connected)"
   ]
  },
  {
   "cell_type": "code",
   "execution_count": 27,
   "id": "38414e57",
   "metadata": {},
   "outputs": [
    {
     "name": "stdout",
     "output_type": "stream",
     "text": [
      "[0.         0.02040816 0.04081633 0.06122449 0.08163265 0.10204082\n",
      " 0.12244898 0.14285714 0.16326531 0.18367347 0.20408163 0.2244898\n",
      " 0.24489796 0.26530612 0.28571429 0.30612245 0.32653061 0.34693878\n",
      " 0.36734694 0.3877551  0.40816327 0.42857143 0.44897959 0.46938776\n",
      " 0.48979592 0.51020408 0.53061224 0.55102041 0.57142857 0.59183673\n",
      " 0.6122449  0.63265306 0.65306122 0.67346939 0.69387755 0.71428571\n",
      " 0.73469388 0.75510204 0.7755102  0.79591837 0.81632653 0.83673469\n",
      " 0.85714286 0.87755102 0.89795918 0.91836735 0.93877551 0.95918367\n",
      " 0.97959184 1.        ]\n"
     ]
    }
   ],
   "source": [
    "link_prob = np.linspace(0,1,50)\n",
    "print(link_prob)"
   ]
  },
  {
   "cell_type": "code",
   "execution_count": null,
   "id": "2ce18fde",
   "metadata": {},
   "outputs": [],
   "source": []
  }
 ],
 "metadata": {
  "kernelspec": {
   "display_name": "Python 3 (ipykernel)",
   "language": "python",
   "name": "python3"
  },
  "language_info": {
   "codemirror_mode": {
    "name": "ipython",
    "version": 3
   },
   "file_extension": ".py",
   "mimetype": "text/x-python",
   "name": "python",
   "nbconvert_exporter": "python",
   "pygments_lexer": "ipython3",
   "version": "3.9.7"
  }
 },
 "nbformat": 4,
 "nbformat_minor": 5
}
