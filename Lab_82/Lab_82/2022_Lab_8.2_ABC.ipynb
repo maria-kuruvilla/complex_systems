{
 "cells": [
  {
   "cell_type": "code",
   "execution_count": null,
   "id": "73485071",
   "metadata": {},
   "outputs": [],
   "source": [
    "import pandas as pd \n",
    "import matplotlib.pyplot as plt\n",
    "import numpy as np\n",
    "from scipy.spatial import distance "
   ]
  },
  {
   "cell_type": "markdown",
   "id": "fb94a746",
   "metadata": {},
   "source": [
    "## This is the mechanistic model we've created "
   ]
  },
  {
   "cell_type": "code",
   "execution_count": null,
   "id": "5a87d6ff",
   "metadata": {},
   "outputs": [],
   "source": [
    "#########################################\n",
    "#### The candidate model as a function\n",
    "#########################################\n",
    "\n",
    "def run_model_N_gamma(initial_pool_population, prob_2_copy, num_reps): \n",
    "    \"\"\"This model simulates the number of birds to follow a leader bird departing from a stop-over site. It repeat this num_reps times and returns a list of all of the independent group sizes.\"\"\"    \n",
    "    group_size_list = np.zeros(num_reps)\n",
    "    \n",
    "    #run it the number of times reqested\n",
    "    for rep in range(num_reps):\n",
    "    \n",
    "        #first individual leaves\n",
    "        num_birds_leaving = 1\n",
    "        group_size = num_birds_leaving #put this bird in the group to leave\n",
    "        pool_population = initial_pool_population - num_birds_leaving #update the pool size\n",
    "    \n",
    "        #everyone left in pool potentially follows the initial leaver\n",
    "        num_copying = np.random.binomial(pool_population, prob_2_copy, 1)\n",
    "        while(num_copying>0):\n",
    "        \n",
    "            #subtract followsers from the pool\n",
    "            pool_population = pool_population - num_copying\n",
    "        \n",
    "            #add them to the leaving group\n",
    "            group_size = group_size + num_copying\n",
    "        \n",
    "            #find out how many copy the copiers\n",
    "            num_copying = np.random.binomial(pool_population, (1-(1-prob_2_copy)**num_copying), 1)\n",
    "        \n",
    "        group_size_list[rep] = group_size\n",
    "    \n",
    "    return group_size_list"
   ]
  },
  {
   "cell_type": "markdown",
   "id": "461fc39c",
   "metadata": {},
   "source": [
    "## Load & prep empirical data\n",
    "(two species)"
   ]
  },
  {
   "cell_type": "code",
   "execution_count": null,
   "id": "e8ffaf16",
   "metadata": {},
   "outputs": [],
   "source": [
    "#load empirical data\n",
    "species = 'BlackheadedGull'\n",
    "#species = 'Commic_Tern'\n",
    "\n",
    "empirical_group_sizes = np.load('empirical_data/group_sizes_' + species + '.npy')\n",
    "#print(empirical_group_sizes)\n",
    "\n",
    "#create histogram\n",
    "## make bins\n",
    "max_group_size = 512+2\n",
    "bin_edges = list(range(1,max_group_size))\n",
    "## get counts\n",
    "group_size_hist, _ = np.histogram(empirical_group_sizes, bin_edges)\n",
    "##normalize histogram\n",
    "emp_group_size_pdf = group_size_hist/np.sum(group_size_hist)"
   ]
  },
  {
   "cell_type": "markdown",
   "id": "c1dec318",
   "metadata": {},
   "source": [
    "## Performn ABC"
   ]
  },
  {
   "cell_type": "code",
   "execution_count": null,
   "id": "be0cdf83",
   "metadata": {},
   "outputs": [],
   "source": [
    "#########################################\n",
    "#### Parameters\n",
    "#########################################\n",
    "\n",
    "\n",
    "# define number of trials to do for the posterior dist\n",
    "\n",
    "# define the number of group to simulate\n",
    "#here is my idea ----> num_groups_to_sample = round(len(empirical_group_sizes)/2) \n",
    "\n",
    "#define a 'distance' threshold\n",
    "\n",
    "\n",
    "\n",
    "#########################################\n",
    "#### Recording variables\n",
    "#########################################\n",
    "\n",
    "#define a place to store list of accepted parameters (this will be used to create posterior dist)\n",
    "\n",
    "\n",
    "#########################################\n",
    "#### Run ABC\n",
    "#########################################\n",
    "\n",
    "#for loop over trials \n",
    "    #define distance and set it bigger than threshold, so that you enter the while loop\n",
    "\n",
    "    #while loop on distance > threshold\n",
    "        \n",
    "        #sample from prior\n",
    "        trial_p = 2**np.random.uniform(-17,-7) #I am pretty sure it is in this range\n",
    "        \n",
    "        #run simulation code\n",
    "        sim_group_sizes = run_model_N_gamma(max_group_size, trial_p, num_groups_to_sample)\n",
    "        \n",
    "        #find simulated PDF (you can use code from above -- you want to have the same bin edges as emp)\n",
    "        ##get histogram\n",
    "        ##normalize histogram\n",
    "\n",
    "        #find distance\n",
    "        JS_distance = distance.jensenshannon(sim_group_size_pdf, emp_group_size_pdf)\n",
    "\n",
    "        # this might help you refine your search ---> plt.scatter(np.log2(trial_p),JS_distance)\n",
    "    #add sample and increase count\n",
    "\n",
    "\n",
    "#########################################\n",
    "#### Plot results\n",
    "#########################################\n",
    "#plot posterior distribution (histogram)\n"
   ]
  },
  {
   "cell_type": "markdown",
   "id": "078601b5",
   "metadata": {},
   "source": [
    "## Plot the empirical PDF and the best-fitting simulated PDF on the same plot\n",
    "(Might try a log-log plot)"
   ]
  },
  {
   "cell_type": "code",
   "execution_count": null,
   "id": "25aa6f2b",
   "metadata": {},
   "outputs": [],
   "source": []
  },
  {
   "cell_type": "code",
   "execution_count": null,
   "id": "4b0976e0",
   "metadata": {},
   "outputs": [],
   "source": []
  }
 ],
 "metadata": {
  "kernelspec": {
   "display_name": "Python 3 (ipykernel)",
   "language": "python",
   "name": "python3"
  },
  "language_info": {
   "codemirror_mode": {
    "name": "ipython",
    "version": 3
   },
   "file_extension": ".py",
   "mimetype": "text/x-python",
   "name": "python",
   "nbconvert_exporter": "python",
   "pygments_lexer": "ipython3",
   "version": "3.9.7"
  }
 },
 "nbformat": 4,
 "nbformat_minor": 5
}
