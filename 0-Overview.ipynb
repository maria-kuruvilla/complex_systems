{
 "cells": [
  {
   "cell_type": "markdown",
   "metadata": {},
   "source": [
    "Introduction to Python\n",
    "======\n",
    "\n",
    "We will be using Python 3, but most code should be backwards compatible with Python 2.7.  The major difference you will note is that the print statement can be written as \n",
    "\n",
    "``\n",
    "print 'Hello world'\n",
    "``\n",
    "\n",
    "in Python 2.7, but in Python 3, it HAS to be written \n",
    "\n",
    "``\n",
    "print('Hello world')\n",
    "``\n",
    "\n",
    "The latter will also work for Python 2.7, so it's a good habit to start writing print statements like that. See [Differences between Python 2 and 3](http://sebastianraschka.com/Articles/2014_python_2_3_key_diff.html)\n",
    "\n",
    "\n",
    "Several things to note about Python:\n",
    "* It's free and open-source\n",
    "* It has a great and powerful design, and can be used to write anything from one-off scripts to huge applications (unlike MATLAB/R/etc.)\n",
    "* It's becoming the universal lingua-franca for scientific programming, amazing ecosystem of additional packages (e.g., for machine learning, web scraping, text mining, biological modelling, statistical analysis, etc.)\n",
    "* It uses **whitespace** to define code blocks\n",
    "* It starts indexing at 0\n",
    "\n",
    "\n",
    "\n",
    "Notebooks\n",
    "--------\n",
    "We will see a demonstration of Jupyter Notebooks (previously called iPython Notebooks).\n",
    "\n",
    "Some advantages of notebooks:\n",
    "* Legibility, documentation, etc. Basically, you can write you paper in it! Also, document with LaTeX equations ($a=\\sqrt{b + c}$).\n",
    "* Show your plots inline\n",
    "* Code is split up into cells.  Don't have to rerun slow startup code. Work on just one chunk of code at a time till you get it perfect.\n",
    "* Save and share you final result as notebook, or HTML, or PDF, etc.\n",
    "* They make coding more fun\n",
    "\n",
    "In fact, what you are reading is itself a notebook, written in **Markdown** (a simple language for writing document for the code).  See this [cheatsheet for Markdown syntax](http://nestacms.com/docs/creating-content/markdown-cheat-sheet) for a quick guide to Markdown.\n",
    "\n",
    "\n",
    "Some useful libraries and links\n",
    "-------\n",
    "* [`numpy`](http://www.numpy.org/) - General numerical and scientific computing (keeping track of vectors, finding eigenvalues of matrices, etc.)\n",
    "* [`scipy`](https://www.scipy.org/) - Closely related to `numpy`, slightly higher-level numerical computing.  E.g., finding the singular value decomposition of a matrix.\n",
    "* [`pandas`](https://pandas.pydata.org) - Provides very convenient 'dataframes' for working with tables of data.  See this great series of notebooks showing how to use [Pandas](http://nbviewer.jupyter.org/github/jvns/pandas-cookbook/tree/v0.1/cookbook/). Also see [10 minutes to Pandas](https://pandas.pydata.org/pandas-docs/stable/10min.html)\n",
    "* [`matplotlib`](https://matplotlib.org/) - The library we will use for plotting data. See the [gallery](https://matplotlib.org/gallery.html) for code examples of how to create a huge variety of plots.\n",
    "* [`seaborn`](seaborn.pydata.org) - Fancies up `matplotlib` plots, visuals partly inspired by R\n",
    "* [`statsmodels`](www.statsmodels.org) - Replicates some statistical functionality of R (regressions, hypothesis testing, etc.)\n",
    "* [`networkx`](https://networkx.github.io/) - A library for working with networks.  See the page for examples. \n",
    "* [`sklearn`](http://scikit-learn.org/) - Great machine learning library, see [examples](http://scikit-learn.org/stable/auto_examples/index.html#general-examples) page for lots of demonstrations.\n",
    "* [`NLTK`](http://www.nltk.org/) -  Natural Language Toolkit, a powerful library for working with natural language\n",
    "\n",
    "Some really useful links for learning the above:\n",
    "* [A brief overview of Python syntax and usage](http://cs231n.github.io/python-numpy-tutorial/)\n",
    "* [Scientific Python Lectures](https://github.com/jrjohansson/scientific-python-lectures)\n",
    "* [A gallery of interesting Jupyter Notebooks](https://github.com/jupyter/jupyter/wiki)"
   ]
  },
  {
   "cell_type": "code",
   "execution_count": null,
   "metadata": {
    "collapsed": true
   },
   "outputs": [],
   "source": []
  }
 ],
 "metadata": {
  "kernelspec": {
   "display_name": "Python 3",
   "language": "python",
   "name": "python3"
  },
  "language_info": {
   "codemirror_mode": {
    "name": "ipython",
    "version": 3
   },
   "file_extension": ".py",
   "mimetype": "text/x-python",
   "name": "python",
   "nbconvert_exporter": "python",
   "pygments_lexer": "ipython3",
   "version": "3.8.8"
  }
 },
 "nbformat": 4,
 "nbformat_minor": 2
}
