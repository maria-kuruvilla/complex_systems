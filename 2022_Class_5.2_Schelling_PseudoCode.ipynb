{
 "cells": [
  {
   "cell_type": "code",
   "execution_count": 1,
   "id": "66ca2d3e",
   "metadata": {},
   "outputs": [],
   "source": [
    "import numpy as np\n",
    "import matplotlib.pyplot as plt"
   ]
  },
  {
   "cell_type": "code",
   "execution_count": 35,
   "id": "20f58f39",
   "metadata": {},
   "outputs": [
    {
     "name": "stdout",
     "output_type": "stream",
     "text": [
      "[0. 0. 0. 0. 0. 0. 0. 0. 1. 1. 1. 1. 2. 2. 2. 2.]\n",
      "[[1. 0. 0. 2.]\n",
      " [2. 2. 0. 0.]\n",
      " [0. 1. 0. 0.]\n",
      " [1. 0. 1. 2.]]\n"
     ]
    }
   ],
   "source": [
    "###### Parameters\n",
    "\n",
    "# fraction of sites occupied\n",
    "\n",
    "# tolerance threshold\n",
    "# - expand model to include neighbourhood size\n",
    "\n",
    "L=4 # size of world, L\n",
    "N=4 # number of each type of agents\n",
    "\n",
    "\n",
    "###### Set up\n",
    "\n",
    "#create an LxL lattice\n",
    "\n",
    "#randomly populate the lattice\n",
    "\n",
    "#np.random.choice([1,1,2,0],size=(L,L),replace=False)\n",
    "\n",
    "num_sites = L*L\n",
    "empty_sites = np.zeros(num_sites-2*N)\n",
    "agent_list_1 = np.full(int(N),1)\n",
    "agent_list_2 = np.full(int(N),2)\n",
    "\n",
    "site_option_list = np.concatenate((empty_sites,agent_list_1,agent_list_2))\n",
    "\n",
    "#site_option_list = np.append(site_option_list,agent_list_2)\n",
    "print(site_option_list)\n",
    "\n",
    "world = np.random.choice(site_option_list,size=(L,L),replace=False)\n",
    "print(world)\n",
    "\n",
    "\n",
    "###### Run\n",
    "\n",
    "#loop over time:\n",
    "    #loop over agents (sites that are non-zero):\n",
    "        #count how many neighbours are of same type\n",
    "        # check if that count is lower than threshold\n",
    "        \n",
    "    # loop over unsatisfied agents   \n",
    "        #move unsatisfied agents"
   ]
  },
  {
   "cell_type": "code",
   "execution_count": null,
   "id": "9c244ada",
   "metadata": {},
   "outputs": [],
   "source": []
  },
  {
   "cell_type": "code",
   "execution_count": null,
   "id": "0c8bbd2c",
   "metadata": {},
   "outputs": [],
   "source": []
  },
  {
   "cell_type": "code",
   "execution_count": 9,
   "id": "5a4af001",
   "metadata": {},
   "outputs": [
    {
     "name": "stdout",
     "output_type": "stream",
     "text": [
      "[0. 1. 2. 1. 1. 0. 1.]\n"
     ]
    },
    {
     "data": {
      "text/plain": [
       "'Peyton'"
      ]
     },
     "execution_count": 9,
     "metadata": {},
     "output_type": "execute_result"
    }
   ],
   "source": [
    "cold_call(students)"
   ]
  },
  {
   "cell_type": "code",
   "execution_count": 2,
   "id": "01f53ae9",
   "metadata": {},
   "outputs": [],
   "source": [
    "def cold_call(students):\n",
    "    global num_calls\n",
    "    weights = (2**-num_calls)/np.sum(2**-num_calls)\n",
    "    index_to_call = np.random.choice(range(len(students)),p=weights)\n",
    "    num_calls[index_to_call] = num_calls[index_to_call] + 1\n",
    "    print(num_calls)\n",
    "    return students[index_to_call]\n",
    "\n",
    "students = ['Francisco', 'Maanasee', 'Maria', 'Peyton', 'Matthew', 'Brielle', 'Brendon']\n",
    "num_calls = np.zeros(len(students))"
   ]
  },
  {
   "cell_type": "code",
   "execution_count": null,
   "id": "cb9f6a67",
   "metadata": {},
   "outputs": [],
   "source": [
    "\n"
   ]
  },
  {
   "cell_type": "code",
   "execution_count": null,
   "id": "11214a0b",
   "metadata": {},
   "outputs": [],
   "source": []
  },
  {
   "cell_type": "code",
   "execution_count": null,
   "id": "91175324",
   "metadata": {},
   "outputs": [],
   "source": []
  },
  {
   "cell_type": "code",
   "execution_count": 33,
   "id": "cfcbe711",
   "metadata": {},
   "outputs": [
    {
     "name": "stdout",
     "output_type": "stream",
     "text": [
      "[0. 0. 0. 0. 0. 0. 0. 0. 1. 1. 1. 1. 2. 2. 2. 2.]\n",
      "[[2. 0. 0. 1.]\n",
      " [2. 0. 0. 0.]\n",
      " [0. 0. 2. 2.]\n",
      " [1. 1. 0. 1.]]\n"
     ]
    }
   ],
   "source": []
  },
  {
   "cell_type": "code",
   "execution_count": null,
   "id": "6c59b6d6",
   "metadata": {},
   "outputs": [],
   "source": []
  }
 ],
 "metadata": {
  "kernelspec": {
   "display_name": "Python 3 (ipykernel)",
   "language": "python",
   "name": "python3"
  },
  "language_info": {
   "codemirror_mode": {
    "name": "ipython",
    "version": 3
   },
   "file_extension": ".py",
   "mimetype": "text/x-python",
   "name": "python",
   "nbconvert_exporter": "python",
   "pygments_lexer": "ipython3",
   "version": "3.9.7"
  }
 },
 "nbformat": 4,
 "nbformat_minor": 5
}
