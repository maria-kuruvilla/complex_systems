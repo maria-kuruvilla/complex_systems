{
 "cells": [
  {
   "cell_type": "code",
   "execution_count": 16,
   "id": "de466958",
   "metadata": {},
   "outputs": [
    {
     "data": {
      "text/plain": [
       "array([[0., 0., 0., 0., 0., 0., 0., 0., 0., 0.],\n",
       "       [1., 0., 0., 0., 1., 0., 0., 0., 0., 0.],\n",
       "       [0., 0., 1., 0., 0., 0., 0., 0., 0., 0.],\n",
       "       [0., 0., 0., 0., 0., 0., 0., 1., 1., 0.],\n",
       "       [0., 0., 0., 0., 1., 0., 0., 0., 0., 0.],\n",
       "       [0., 0., 1., 1., 0., 0., 0., 0., 0., 0.],\n",
       "       [0., 0., 0., 1., 0., 0., 1., 0., 0., 0.],\n",
       "       [0., 0., 0., 0., 0., 0., 0., 0., 0., 0.],\n",
       "       [0., 0., 0., 0., 0., 0., 0., 0., 0., 0.],\n",
       "       [0., 0., 0., 0., 0., 0., 0., 0., 0., 0.]])"
      ]
     },
     "execution_count": 16,
     "metadata": {},
     "output_type": "execute_result"
    }
   ],
   "source": [
    "#Code the Panic model, as described in Sayama. Use a square lattice with Moore neighborhoods. \n",
    "\n",
    "#1) Create a function that takes the size of the square lattice, L, (length of one side of the world), \n",
    "# the percentage of cells to start off in state 1 (p) and a \n",
    "#length of time T to run as parameters and returns the percentage of the world in state 1 after T time steps.\n",
    "\n",
    "\n",
    "# import \n",
    "\n",
    "import numpy as np\n",
    "import matplotlib.pyplot as plt\n",
    "import random\n",
    "\n",
    "\n",
    "L = 10 #size\n",
    "p = 10  #percentage\n",
    "T = 100 #number of time steps\n",
    "\n",
    "def panic(L,p,T):\n",
    "    x = np.empty([L, L])\n",
    "    x.fill(np.nan)\n",
    "    temp = np.random.randint(100 ,size=(L, L))\n",
    "    for i in range(L):\n",
    "        for j in range(L):\n",
    "            if temp[i,j] < p:\n",
    "                x[i,j] = 1\n",
    "            else:\n",
    "                x[i,j] = 0\n",
    "    for i in range(L):\n",
    "        for j in range(L):\n",
    "            if i == L-1: # not sure about this\n",
    "                i = 0\n",
    "            if j == L-1:\n",
    "                j = 0\n",
    "            rule = x[i-1,j-1] + x[i+1,j-1] + x[i,j-1] + x[i-1,j] + x[i+1,j] + x[i-1,j+1] + x[i,j+1] + x[i,j+1]\n",
    "            if x[i-1,j] + x[]\n",
    "    return(x)\n",
    "\n",
    "\n",
    "    \n",
    "\n",
    "\n",
    "    \n"
   ]
  },
  {
   "cell_type": "code",
   "execution_count": 15,
   "id": "a1730a49",
   "metadata": {
    "scrolled": true
   },
   "outputs": [
    {
     "data": {
      "text/plain": [
       "62"
      ]
     },
     "execution_count": 15,
     "metadata": {},
     "output_type": "execute_result"
    }
   ],
   "source": []
  },
  {
   "cell_type": "code",
   "execution_count": null,
   "id": "b8ec5662",
   "metadata": {},
   "outputs": [],
   "source": []
  }
 ],
 "metadata": {
  "kernelspec": {
   "display_name": "Python 3 (ipykernel)",
   "language": "python",
   "name": "python3"
  },
  "language_info": {
   "codemirror_mode": {
    "name": "ipython",
    "version": 3
   },
   "file_extension": ".py",
   "mimetype": "text/x-python",
   "name": "python",
   "nbconvert_exporter": "python",
   "pygments_lexer": "ipython3",
   "version": "3.9.7"
  }
 },
 "nbformat": 4,
 "nbformat_minor": 5
}
