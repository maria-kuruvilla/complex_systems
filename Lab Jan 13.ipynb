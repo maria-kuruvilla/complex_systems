{
 "cells": [
  {
   "cell_type": "code",
   "execution_count": 1,
   "id": "dbdd4495",
   "metadata": {},
   "outputs": [],
   "source": [
    "#Modify your SIS simulator to take into account school seasons, using a step function. \n",
    "#The numpy heavy-side function, working with the mod operator may be useful.\n",
    "\n",
    "################################\n",
    "### Import Stuff\n",
    "################################\n",
    "import numpy as np\n",
    "import matplotlib.pyplot as plt\n",
    "from scipy.integrate import odeint\n",
    "\n"
   ]
  },
  {
   "cell_type": "code",
   "execution_count": null,
   "id": "98961274",
   "metadata": {},
   "outputs": [],
   "source": [
    "################################\n",
    "### Define functions\n",
    "################################\n",
    "\n",
    "#SI is both S and I. S is SI[0] and I is SI[1]\n",
    "\n",
    "def SIS(SI, t, a, b):\n",
    "    \"\"\"Return the growth rate of the susceptible and infected populations\"\"\"\n",
    "    dSdt = -a*SI[0]*SI[1] + b*SI[1]\n",
    "    dIdt = a*SI[0]*SI[1] - b*SI[1]\n",
    "    return np.array([dSdt, dIdt])"
   ]
  },
  {
   "cell_type": "code",
   "execution_count": 6,
   "id": "4270541e",
   "metadata": {},
   "outputs": [
    {
     "data": {
      "text/plain": [
       "[<matplotlib.lines.Line2D at 0x16eeaedc910>]"
      ]
     },
     "execution_count": 6,
     "metadata": {},
     "output_type": "execute_result"
    },
    {
     "data": {
      "image/png": "[encoded data removed]",
      "text/plain": [
       "<Figure size 432x288 with 1 Axes>"
      ]
     },
     "metadata": {
      "needs_background": "light"
     },
     "output_type": "display_data"
    }
   ],
   "source": [
    "a_hi = 4\n",
    "a_lo = 1\n",
    "length_of_summer = 90\n",
    "#ttt = np.linspace(0,1000)\n",
    "#a = ((a_hi-a_lo)/2)*np.sin(2*np.pi*ttt/365) + (a_hi + a_lo)/2\n",
    "\n",
    "t = np.linspace(0,1000)\n",
    "day = np.linspace(0,1000,1000)\n",
    "day_of_year = np.mod(day,365)\n",
    "a = np.heaviside((day_of_year-length_of_summer),1)\n",
    "\n",
    "plt.plot(day,a)"
   ]
  },
  {
   "cell_type": "code",
   "execution_count": null,
   "id": "bfb112d6",
   "metadata": {},
   "outputs": [],
   "source": []
  }
 ],
 "metadata": {
  "kernelspec": {
   "display_name": "Python 3 (ipykernel)",
   "language": "python",
   "name": "python3"
  },
  "language_info": {
   "codemirror_mode": {
    "name": "ipython",
    "version": 3
   },
   "file_extension": ".py",
   "mimetype": "text/x-python",
   "name": "python",
   "nbconvert_exporter": "python",
   "pygments_lexer": "ipython3",
   "version": "3.9.7"
  }
 },
 "nbformat": 4,
 "nbformat_minor": 5
}
