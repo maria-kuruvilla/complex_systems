{
 "cells": [
  {
   "cell_type": "code",
   "execution_count": 10,
   "id": "burning-adoption",
   "metadata": {},
   "outputs": [],
   "source": [
    "import numpy as np\n",
    "import matplotlib.pyplot as plt"
   ]
  },
  {
   "cell_type": "code",
   "execution_count": 14,
   "id": "addressed-remark",
   "metadata": {},
   "outputs": [],
   "source": [
    "#####################\n",
    "### Define your function here\n",
    "#####################\n",
    "\n",
    "def evolve_Ham_n_May(L,max_time,initial_dispersal,num_babies,mov_risk,mut_rate):\n",
    "    mean_dispersal = mov_risk ### this will need to change...\n",
    "    std_dispersal = 2*initial_dispersal ### this will need to change...\n",
    "    return mean_dispersal, std_dispersal "
   ]
  },
  {
   "cell_type": "code",
   "execution_count": 24,
   "id": "copyrighted-pitch",
   "metadata": {},
   "outputs": [
    {
     "name": "stdout",
     "output_type": "stream",
     "text": [
      "0.05\n",
      "0.15\n",
      "0.25\n",
      "0.35\n",
      "0.44999999999999996\n",
      "0.5499999999999999\n",
      "0.65\n",
      "0.75\n",
      "0.85\n",
      "0.95\n"
     ]
    },
    {
     "data": {
      "text/plain": [
       "<matplotlib.legend.Legend at 0x7ff42da275d0>"
      ]
     },
     "execution_count": 24,
     "metadata": {},
     "output_type": "execute_result"
    },
    {
     "data": {
      "image/png": "[encoded data removed]",
      "text/plain": [
       "<Figure size 432x288 with 1 Axes>"
      ]
     },
     "metadata": {
      "needs_background": "light"
     },
     "output_type": "display_data"
    }
   ],
   "source": [
    "#####################\n",
    "### Parameters\n",
    "#####################\n",
    "\n",
    "L = 512\n",
    "max_time = 1000\n",
    "num_babies = 32\n",
    "mut_rate = 0.01\n",
    "initial_dispersal = 0.1\n",
    "\n",
    "\n",
    "lo_p = 0.05\n",
    "hi_p = 0.95\n",
    "num_p_samples = 10\n",
    "risk_list = np.linspace(lo_p,hi_p,num_p_samples) #you could make this more dense\n",
    "\n",
    "\n",
    "#####################\n",
    "### Recording variables\n",
    "#####################\n",
    "mean_evolved_dispersal = np.zeros(len(risk_list))\n",
    "std_evolved_dispersal = np.zeros(len(risk_list))\n",
    "\n",
    "\n",
    "#####################\n",
    "### Do experiments\n",
    "#####################\n",
    "for i, mov_risk in enumerate(risk_list):\n",
    "    print(mov_risk)\n",
    "    mean_evolved_dispersal[i], std_evolved_dispersal[i] = evolve_Ham_n_May(L,max_time,initial_dispersal,num_babies,mov_risk,mut_rate)\n",
    "    initial_dispersal = mean_evolved_dispersal[i] # this isn't nessesary, but can speed up your code\n",
    "\n",
    "#####################\n",
    "### Plot Results\n",
    "#####################\n",
    "plt.figure()\n",
    "plt.plot(risk_list,mean_evolved_dispersal, label='simulation') \n",
    "plt.fill_between(risk_list,mean_evolved_dispersal-std_evolved_dispersal,mean_evolved_dispersal+std_evolved_dispersal, alpha=0.5)\n",
    "plt.plot(risk_list,1/(2-(1-risk_list)), label='analytical')\n",
    "plt.xlabel('probability to survive dispersal')\n",
    "plt.ylabel('evolved dispersal probability')\n",
    "plt.legend(loc='upper right')"
   ]
  },
  {
   "cell_type": "code",
   "execution_count": null,
   "id": "supposed-vienna",
   "metadata": {},
   "outputs": [],
   "source": []
  }
 ],
 "metadata": {
  "kernelspec": {
   "display_name": "Python 3",
   "language": "python",
   "name": "python3"
  },
  "language_info": {
   "codemirror_mode": {
    "name": "ipython",
    "version": 3
   },
   "file_extension": ".py",
   "mimetype": "text/x-python",
   "name": "python",
   "nbconvert_exporter": "python",
   "pygments_lexer": "ipython3",
   "version": "3.7.5"
  }
 },
 "nbformat": 4,
 "nbformat_minor": 5
}
